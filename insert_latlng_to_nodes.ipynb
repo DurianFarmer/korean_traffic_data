{
 "cells": [
  {
   "cell_type": "code",
   "execution_count": 1,
   "metadata": {},
   "outputs": [],
   "source": [
    "from neo4j import GraphDatabase\n",
    "import pandas as pd\n",
    "\n",
    "host = 'bolt://localhost:7687'\n",
    "user = 'neo4j'\n",
    "password = 'datascience'\n",
    "driver = GraphDatabase.driver(host,auth=(user, password))"
   ]
  },
  {
   "cell_type": "code",
   "execution_count": 9,
   "metadata": {},
   "outputs": [
    {
     "name": "stdout",
     "output_type": "stream",
     "text": [
      "                                              LATLNG     NODE_ID  NODE_TYPE  \\\n",
      "0  Point (128.77178990035196193 35.13843563163282...  4180125501        104   \n",
      "1  Point (128.71090530311320776 35.15963399360245...  4180125401        104   \n",
      "2  Point (128.70789181712055438 35.16006572439530...  4180125301        101   \n",
      "3  Point (128.70565007128658408 35.16104831672714...  4180125201        101   \n",
      "4  Point (128.70337362719561725 35.16247414942506...  4180125101        101   \n",
      "5  Point (128.70501074023567867 35.15994677274557...  4180125001        101   \n",
      "6  Point (128.68139462430298181 35.16547661478314...  4180124901        101   \n",
      "7  Point (128.67461858078345927 35.16442896911259...  4180124801        104   \n",
      "8  Point (128.66942154882076466 35.16562097551557...  4180124701        104   \n",
      "9  Point (128.66906606609961727 35.1658126275849412)  4180124601        104   \n",
      "\n",
      "  NODE_NAME  TURN_P REMARK  \n",
      "0      진해TG       0    NaN  \n",
      "1      우남목장       0    NaN  \n",
      "2     석리소류지       1    NaN  \n",
      "3    레스트125       1    NaN  \n",
      "4      호화별장       1    NaN  \n",
      "5       해장사       1    NaN  \n",
      "6       지장암       0    NaN  \n",
      "7   안민고개주차장       0    NaN  \n",
      "8     서재소류지       0    NaN  \n",
      "9     서재소류지       0    NaN  \n"
     ]
    }
   ],
   "source": [
    "PATH = r\"C:\\Users\\Chai\\.Neo4jDesktop\\neo4jDatabases\\database-a4494c5c-be01-475f-9407-58c9feb17dee\\installation-4.2.1\\import\\MOCT_NODE_LATLNG.csv\"\n",
    "\n",
    "df = pd.read_csv(PATH)\n",
    "\n",
    "print(df.head(10))"
   ]
  },
  {
   "cell_type": "code",
   "execution_count": 24,
   "metadata": {
    "scrolled": true
   },
   "outputs": [
    {
     "name": "stdout",
     "output_type": "stream",
     "text": [
      "      NODE_ID         LNG        LAT\n",
      "0  4180125501  128.771790  35.138436\n",
      "1  4180125401  128.710905  35.159634\n",
      "2  4180125301  128.707892  35.160066\n",
      "3  4180125201  128.705650  35.161048\n",
      "4  4180125101  128.703374  35.162474\n",
      "5  4180125001  128.705011  35.159947\n",
      "6  4180124901  128.681395  35.165477\n",
      "7  4180124801  128.674619  35.164429\n",
      "8  4180124701  128.669422  35.165621\n",
      "9  4180124601  128.669066  35.165813\n"
     ]
    }
   ],
   "source": [
    "tmp = list(map(lambda x: x.split(' ') , df['LATLNG']))\n",
    "\n",
    "lng = [float(x[1][1:]) for x in tmp]\n",
    "lat = [float(x[2][:-1]) for x in tmp]\n",
    "\n",
    "\n",
    "\n",
    "df_latlng = pd.DataFrame({'NODE_ID': df['NODE_ID'], 'LNG': lng, 'LAT': lat})\n",
    "\n",
    "print(df_latlng.head(10))"
   ]
  },
  {
   "cell_type": "code",
   "execution_count": 25,
   "metadata": {},
   "outputs": [],
   "source": [
    "PATH_2 = r\"C:\\Users\\Chai\\.Neo4jDesktop\\neo4jDatabases\\database-a4494c5c-be01-475f-9407-58c9feb17dee\\installation-4.2.1\\import\\MOCT_NODE_LATLNG_2.csv\"\n",
    "\n",
    "df_latlng.to_csv(PATH_2, sep = ',', index = False)"
   ]
  },
  {
   "cell_type": "code",
   "execution_count": null,
   "metadata": {},
   "outputs": [],
   "source": [
    "## Very Important!!\n",
    "## Create an index on node_id of KsNode\n",
    "CREATE INDEX ON :KsNode(node_id)"
   ]
  },
  {
   "cell_type": "code",
   "execution_count": null,
   "metadata": {},
   "outputs": [],
   "source": [
    "with driver.session() as session:\n",
    "    session.run(\"\"\"\n",
    "            LOAD CSV WITH HEADERS FROM 'file:///MOCT_NODE_LATLNG_2.csv' AS row\n",
    "            MATCH (n: KsNode {node_id: row['NODE_ID']})\n",
    "            SET n.latlng = point({longitude: toFloat(row['LNG']), latitude: toFloat(row['LAT'])})\n",
    "            \"\"\")"
   ]
  },
  {
   "cell_type": "code",
   "execution_count": null,
   "metadata": {},
   "outputs": [],
   "source": []
  },
  {
   "cell_type": "code",
   "execution_count": null,
   "metadata": {},
   "outputs": [],
   "source": []
  }
 ],
 "metadata": {
  "kernelspec": {
   "display_name": "Python 3",
   "language": "python",
   "name": "python3"
  },
  "language_info": {
   "codemirror_mode": {
    "name": "ipython",
    "version": 3
   },
   "file_extension": ".py",
   "mimetype": "text/x-python",
   "name": "python",
   "nbconvert_exporter": "python",
   "pygments_lexer": "ipython3",
   "version": "3.7.6"
  }
 },
 "nbformat": 4,
 "nbformat_minor": 4
}
